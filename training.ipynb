{
 "cells": [
  {
   "cell_type": "code",
   "execution_count": 26,
   "metadata": {},
   "outputs": [],
   "source": [
    "import pandas as pd\n",
    "import numpy as np\n",
    "\n",
    "from sklearn.preprocessing import OneHotEncoder, LabelEncoder\n",
    "from sklearn.ensemble import RandomForestClassifier\n",
    "from sklearn.metrics import accuracy_score, confusion_matrix, precision_score, recall_score, ConfusionMatrixDisplay\n",
    "from sklearn.model_selection import RandomizedSearchCV, train_test_split\n",
    "from sklearn.svm import SVR\n",
    "from sklearn.ensemble import RandomForestRegressor\n",
    "from sklearn.metrics import mean_squared_error, r2_score\n",
    "from sklearn.linear_model import LinearRegression, Ridge, Lasso\n",
    "from sklearn.tree import DecisionTreeRegressor\n",
    "import xgboost as xg \n",
    "from sklearn.compose  import make_column_transformer\n",
    "from sklearn.pipeline import make_pipeline\n",
    "from sklearn.model_selection import KFold\n",
    "\n",
    "import warnings\n",
    "warnings.simplefilter(action='ignore', category=pd.errors.PerformanceWarning)"
   ]
  },
  {
   "cell_type": "code",
   "execution_count": 27,
   "metadata": {},
   "outputs": [],
   "source": [
    "data = pd.read_csv('./car_final.csv', index_col=0)"
   ]
  },
  {
   "cell_type": "code",
   "execution_count": 28,
   "metadata": {},
   "outputs": [
    {
     "data": {
      "text/plain": [
       "(81436, 7)"
      ]
     },
     "execution_count": 28,
     "metadata": {},
     "output_type": "execute_result"
    }
   ],
   "source": [
    "data.shape"
   ]
  },
  {
   "cell_type": "code",
   "execution_count": 29,
   "metadata": {},
   "outputs": [],
   "source": [
    "X = data.drop('price', axis=1)\n",
    "y = data['price']\n",
    "\n",
    "X_train, X_test, y_train, y_test = train_test_split(X, y, test_size=0.1, random_state=40)"
   ]
  },
  {
   "cell_type": "code",
   "execution_count": 30,
   "metadata": {},
   "outputs": [
    {
     "data": {
      "text/html": [
       "<style>#sk-container-id-3 {color: black;}#sk-container-id-3 pre{padding: 0;}#sk-container-id-3 div.sk-toggleable {background-color: white;}#sk-container-id-3 label.sk-toggleable__label {cursor: pointer;display: block;width: 100%;margin-bottom: 0;padding: 0.3em;box-sizing: border-box;text-align: center;}#sk-container-id-3 label.sk-toggleable__label-arrow:before {content: \"▸\";float: left;margin-right: 0.25em;color: #696969;}#sk-container-id-3 label.sk-toggleable__label-arrow:hover:before {color: black;}#sk-container-id-3 div.sk-estimator:hover label.sk-toggleable__label-arrow:before {color: black;}#sk-container-id-3 div.sk-toggleable__content {max-height: 0;max-width: 0;overflow: hidden;text-align: left;background-color: #f0f8ff;}#sk-container-id-3 div.sk-toggleable__content pre {margin: 0.2em;color: black;border-radius: 0.25em;background-color: #f0f8ff;}#sk-container-id-3 input.sk-toggleable__control:checked~div.sk-toggleable__content {max-height: 200px;max-width: 100%;overflow: auto;}#sk-container-id-3 input.sk-toggleable__control:checked~label.sk-toggleable__label-arrow:before {content: \"▾\";}#sk-container-id-3 div.sk-estimator input.sk-toggleable__control:checked~label.sk-toggleable__label {background-color: #d4ebff;}#sk-container-id-3 div.sk-label input.sk-toggleable__control:checked~label.sk-toggleable__label {background-color: #d4ebff;}#sk-container-id-3 input.sk-hidden--visually {border: 0;clip: rect(1px 1px 1px 1px);clip: rect(1px, 1px, 1px, 1px);height: 1px;margin: -1px;overflow: hidden;padding: 0;position: absolute;width: 1px;}#sk-container-id-3 div.sk-estimator {font-family: monospace;background-color: #f0f8ff;border: 1px dotted black;border-radius: 0.25em;box-sizing: border-box;margin-bottom: 0.5em;}#sk-container-id-3 div.sk-estimator:hover {background-color: #d4ebff;}#sk-container-id-3 div.sk-parallel-item::after {content: \"\";width: 100%;border-bottom: 1px solid gray;flex-grow: 1;}#sk-container-id-3 div.sk-label:hover label.sk-toggleable__label {background-color: #d4ebff;}#sk-container-id-3 div.sk-serial::before {content: \"\";position: absolute;border-left: 1px solid gray;box-sizing: border-box;top: 0;bottom: 0;left: 50%;z-index: 0;}#sk-container-id-3 div.sk-serial {display: flex;flex-direction: column;align-items: center;background-color: white;padding-right: 0.2em;padding-left: 0.2em;position: relative;}#sk-container-id-3 div.sk-item {position: relative;z-index: 1;}#sk-container-id-3 div.sk-parallel {display: flex;align-items: stretch;justify-content: center;background-color: white;position: relative;}#sk-container-id-3 div.sk-item::before, #sk-container-id-3 div.sk-parallel-item::before {content: \"\";position: absolute;border-left: 1px solid gray;box-sizing: border-box;top: 0;bottom: 0;left: 50%;z-index: -1;}#sk-container-id-3 div.sk-parallel-item {display: flex;flex-direction: column;z-index: 1;position: relative;background-color: white;}#sk-container-id-3 div.sk-parallel-item:first-child::after {align-self: flex-end;width: 50%;}#sk-container-id-3 div.sk-parallel-item:last-child::after {align-self: flex-start;width: 50%;}#sk-container-id-3 div.sk-parallel-item:only-child::after {width: 0;}#sk-container-id-3 div.sk-dashed-wrapped {border: 1px dashed gray;margin: 0 0.4em 0.5em 0.4em;box-sizing: border-box;padding-bottom: 0.4em;background-color: white;}#sk-container-id-3 div.sk-label label {font-family: monospace;font-weight: bold;display: inline-block;line-height: 1.2em;}#sk-container-id-3 div.sk-label-container {text-align: center;}#sk-container-id-3 div.sk-container {/* jupyter's `normalize.less` sets `[hidden] { display: none; }` but bootstrap.min.css set `[hidden] { display: none !important; }` so we also need the `!important` here to be able to override the default hidden behavior on the sphinx rendered scikit-learn.org. See: https://github.com/scikit-learn/scikit-learn/issues/21755 */display: inline-block !important;position: relative;}#sk-container-id-3 div.sk-text-repr-fallback {display: none;}</style><div id=\"sk-container-id-3\" class=\"sk-top-container\"><div class=\"sk-text-repr-fallback\"><pre>OneHotEncoder()</pre><b>In a Jupyter environment, please rerun this cell to show the HTML representation or trust the notebook. <br />On GitHub, the HTML representation is unable to render, please try loading this page with nbviewer.org.</b></div><div class=\"sk-container\" hidden><div class=\"sk-item\"><div class=\"sk-estimator sk-toggleable\"><input class=\"sk-toggleable__control sk-hidden--visually\" id=\"sk-estimator-id-7\" type=\"checkbox\" checked><label for=\"sk-estimator-id-7\" class=\"sk-toggleable__label sk-toggleable__label-arrow\">OneHotEncoder</label><div class=\"sk-toggleable__content\"><pre>OneHotEncoder()</pre></div></div></div></div></div>"
      ],
      "text/plain": [
       "OneHotEncoder()"
      ]
     },
     "execution_count": 30,
     "metadata": {},
     "output_type": "execute_result"
    }
   ],
   "source": [
    "ohe = OneHotEncoder()\n",
    "ohe.fit(X[['brand', 'model', 'type_car', 'fuel', 'condition']])"
   ]
  },
  {
   "cell_type": "code",
   "execution_count": 31,
   "metadata": {},
   "outputs": [
    {
     "data": {
      "text/html": [
       "<style>#sk-container-id-4 {color: black;}#sk-container-id-4 pre{padding: 0;}#sk-container-id-4 div.sk-toggleable {background-color: white;}#sk-container-id-4 label.sk-toggleable__label {cursor: pointer;display: block;width: 100%;margin-bottom: 0;padding: 0.3em;box-sizing: border-box;text-align: center;}#sk-container-id-4 label.sk-toggleable__label-arrow:before {content: \"▸\";float: left;margin-right: 0.25em;color: #696969;}#sk-container-id-4 label.sk-toggleable__label-arrow:hover:before {color: black;}#sk-container-id-4 div.sk-estimator:hover label.sk-toggleable__label-arrow:before {color: black;}#sk-container-id-4 div.sk-toggleable__content {max-height: 0;max-width: 0;overflow: hidden;text-align: left;background-color: #f0f8ff;}#sk-container-id-4 div.sk-toggleable__content pre {margin: 0.2em;color: black;border-radius: 0.25em;background-color: #f0f8ff;}#sk-container-id-4 input.sk-toggleable__control:checked~div.sk-toggleable__content {max-height: 200px;max-width: 100%;overflow: auto;}#sk-container-id-4 input.sk-toggleable__control:checked~label.sk-toggleable__label-arrow:before {content: \"▾\";}#sk-container-id-4 div.sk-estimator input.sk-toggleable__control:checked~label.sk-toggleable__label {background-color: #d4ebff;}#sk-container-id-4 div.sk-label input.sk-toggleable__control:checked~label.sk-toggleable__label {background-color: #d4ebff;}#sk-container-id-4 input.sk-hidden--visually {border: 0;clip: rect(1px 1px 1px 1px);clip: rect(1px, 1px, 1px, 1px);height: 1px;margin: -1px;overflow: hidden;padding: 0;position: absolute;width: 1px;}#sk-container-id-4 div.sk-estimator {font-family: monospace;background-color: #f0f8ff;border: 1px dotted black;border-radius: 0.25em;box-sizing: border-box;margin-bottom: 0.5em;}#sk-container-id-4 div.sk-estimator:hover {background-color: #d4ebff;}#sk-container-id-4 div.sk-parallel-item::after {content: \"\";width: 100%;border-bottom: 1px solid gray;flex-grow: 1;}#sk-container-id-4 div.sk-label:hover label.sk-toggleable__label {background-color: #d4ebff;}#sk-container-id-4 div.sk-serial::before {content: \"\";position: absolute;border-left: 1px solid gray;box-sizing: border-box;top: 0;bottom: 0;left: 50%;z-index: 0;}#sk-container-id-4 div.sk-serial {display: flex;flex-direction: column;align-items: center;background-color: white;padding-right: 0.2em;padding-left: 0.2em;position: relative;}#sk-container-id-4 div.sk-item {position: relative;z-index: 1;}#sk-container-id-4 div.sk-parallel {display: flex;align-items: stretch;justify-content: center;background-color: white;position: relative;}#sk-container-id-4 div.sk-item::before, #sk-container-id-4 div.sk-parallel-item::before {content: \"\";position: absolute;border-left: 1px solid gray;box-sizing: border-box;top: 0;bottom: 0;left: 50%;z-index: -1;}#sk-container-id-4 div.sk-parallel-item {display: flex;flex-direction: column;z-index: 1;position: relative;background-color: white;}#sk-container-id-4 div.sk-parallel-item:first-child::after {align-self: flex-end;width: 50%;}#sk-container-id-4 div.sk-parallel-item:last-child::after {align-self: flex-start;width: 50%;}#sk-container-id-4 div.sk-parallel-item:only-child::after {width: 0;}#sk-container-id-4 div.sk-dashed-wrapped {border: 1px dashed gray;margin: 0 0.4em 0.5em 0.4em;box-sizing: border-box;padding-bottom: 0.4em;background-color: white;}#sk-container-id-4 div.sk-label label {font-family: monospace;font-weight: bold;display: inline-block;line-height: 1.2em;}#sk-container-id-4 div.sk-label-container {text-align: center;}#sk-container-id-4 div.sk-container {/* jupyter's `normalize.less` sets `[hidden] { display: none; }` but bootstrap.min.css set `[hidden] { display: none !important; }` so we also need the `!important` here to be able to override the default hidden behavior on the sphinx rendered scikit-learn.org. See: https://github.com/scikit-learn/scikit-learn/issues/21755 */display: inline-block !important;position: relative;}#sk-container-id-4 div.sk-text-repr-fallback {display: none;}</style><div id=\"sk-container-id-4\" class=\"sk-top-container\"><div class=\"sk-text-repr-fallback\"><pre>ColumnTransformer(remainder=&#x27;passthrough&#x27;,\n",
       "                  transformers=[(&#x27;onehotencoder&#x27;,\n",
       "                                 OneHotEncoder(categories=[array([&#x27;Acura&#x27;, &#x27;Asia&#x27;, &#x27;Aston Martin&#x27;, &#x27;Audi&#x27;, &#x27;BMW&#x27;, &#x27;BYD&#x27;, &#x27;Baic&#x27;,\n",
       "       &#x27;Bentley&#x27;, &#x27;Buick&#x27;, &#x27;Cadillac&#x27;, &#x27;Changan&#x27;, &#x27;Chery&#x27;, &#x27;Chevrolet&#x27;,\n",
       "       &#x27;Chrysler&#x27;, &#x27;Citroen&#x27;, &#x27;Daewoo&#x27;, &#x27;Daihatsu&#x27;, &#x27;Dodge&#x27;, &#x27;Ferrari&#x27;,\n",
       "       &#x27;Fiat&#x27;, &#x27;Ford&#x27;, &#x27;Gaz&#x27;, &#x27;Haima&#x27;, &#x27;Haval&#x27;, &#x27;Hãng khác&#x27;, &#x27;Honda&#x27;,\n",
       "       &#x27;HongQi&#x27;, &#x27;Hyund...\n",
       "       &#x27;Yaris&#x27;, &#x27;Yaris Verso&#x27;, &#x27;Z4&#x27;, &#x27;Z4 Roadster&#x27;, &#x27;ZDX&#x27;, &#x27;ZS&#x27;, &#x27;Zace&#x27;,\n",
       "       &#x27;Zinger&#x27;, &#x27;eMighty&#x27;, &#x27;i20&#x27;, &#x27;i3&#x27;, &#x27;i30&#x27;, &#x27;i8&#x27;], dtype=object),\n",
       "                                                           array([&#x27;Coupe (2 cửa)&#x27;, &#x27;Hatchback&#x27;, &#x27;Kiểu dáng khác&#x27;, &#x27;Minivan (MPV)&#x27;,\n",
       "       &#x27;Mui trần&#x27;, &#x27;Pick-up (bán tải)&#x27;, &#x27;SUV / Cross over&#x27;, &#x27;Sedan&#x27;,\n",
       "       &#x27;Van&#x27;], dtype=object),\n",
       "                                                           array([&#x27;electric&#x27;, &#x27;hybrid&#x27;, &#x27;oil&#x27;, &#x27;petrol&#x27;], dtype=object),\n",
       "                                                           array([&#x27;new&#x27;, &#x27;used&#x27;], dtype=object)]),\n",
       "                                 [&#x27;brand&#x27;, &#x27;model&#x27;, &#x27;type_car&#x27;, &#x27;fuel&#x27;,\n",
       "                                  &#x27;condition&#x27;])])</pre><b>In a Jupyter environment, please rerun this cell to show the HTML representation or trust the notebook. <br />On GitHub, the HTML representation is unable to render, please try loading this page with nbviewer.org.</b></div><div class=\"sk-container\" hidden><div class=\"sk-item sk-dashed-wrapped\"><div class=\"sk-label-container\"><div class=\"sk-label sk-toggleable\"><input class=\"sk-toggleable__control sk-hidden--visually\" id=\"sk-estimator-id-8\" type=\"checkbox\" ><label for=\"sk-estimator-id-8\" class=\"sk-toggleable__label sk-toggleable__label-arrow\">ColumnTransformer</label><div class=\"sk-toggleable__content\"><pre>ColumnTransformer(remainder=&#x27;passthrough&#x27;,\n",
       "                  transformers=[(&#x27;onehotencoder&#x27;,\n",
       "                                 OneHotEncoder(categories=[array([&#x27;Acura&#x27;, &#x27;Asia&#x27;, &#x27;Aston Martin&#x27;, &#x27;Audi&#x27;, &#x27;BMW&#x27;, &#x27;BYD&#x27;, &#x27;Baic&#x27;,\n",
       "       &#x27;Bentley&#x27;, &#x27;Buick&#x27;, &#x27;Cadillac&#x27;, &#x27;Changan&#x27;, &#x27;Chery&#x27;, &#x27;Chevrolet&#x27;,\n",
       "       &#x27;Chrysler&#x27;, &#x27;Citroen&#x27;, &#x27;Daewoo&#x27;, &#x27;Daihatsu&#x27;, &#x27;Dodge&#x27;, &#x27;Ferrari&#x27;,\n",
       "       &#x27;Fiat&#x27;, &#x27;Ford&#x27;, &#x27;Gaz&#x27;, &#x27;Haima&#x27;, &#x27;Haval&#x27;, &#x27;Hãng khác&#x27;, &#x27;Honda&#x27;,\n",
       "       &#x27;HongQi&#x27;, &#x27;Hyund...\n",
       "       &#x27;Yaris&#x27;, &#x27;Yaris Verso&#x27;, &#x27;Z4&#x27;, &#x27;Z4 Roadster&#x27;, &#x27;ZDX&#x27;, &#x27;ZS&#x27;, &#x27;Zace&#x27;,\n",
       "       &#x27;Zinger&#x27;, &#x27;eMighty&#x27;, &#x27;i20&#x27;, &#x27;i3&#x27;, &#x27;i30&#x27;, &#x27;i8&#x27;], dtype=object),\n",
       "                                                           array([&#x27;Coupe (2 cửa)&#x27;, &#x27;Hatchback&#x27;, &#x27;Kiểu dáng khác&#x27;, &#x27;Minivan (MPV)&#x27;,\n",
       "       &#x27;Mui trần&#x27;, &#x27;Pick-up (bán tải)&#x27;, &#x27;SUV / Cross over&#x27;, &#x27;Sedan&#x27;,\n",
       "       &#x27;Van&#x27;], dtype=object),\n",
       "                                                           array([&#x27;electric&#x27;, &#x27;hybrid&#x27;, &#x27;oil&#x27;, &#x27;petrol&#x27;], dtype=object),\n",
       "                                                           array([&#x27;new&#x27;, &#x27;used&#x27;], dtype=object)]),\n",
       "                                 [&#x27;brand&#x27;, &#x27;model&#x27;, &#x27;type_car&#x27;, &#x27;fuel&#x27;,\n",
       "                                  &#x27;condition&#x27;])])</pre></div></div></div><div class=\"sk-parallel\"><div class=\"sk-parallel-item\"><div class=\"sk-item\"><div class=\"sk-label-container\"><div class=\"sk-label sk-toggleable\"><input class=\"sk-toggleable__control sk-hidden--visually\" id=\"sk-estimator-id-9\" type=\"checkbox\" ><label for=\"sk-estimator-id-9\" class=\"sk-toggleable__label sk-toggleable__label-arrow\">onehotencoder</label><div class=\"sk-toggleable__content\"><pre>[&#x27;brand&#x27;, &#x27;model&#x27;, &#x27;type_car&#x27;, &#x27;fuel&#x27;, &#x27;condition&#x27;]</pre></div></div></div><div class=\"sk-serial\"><div class=\"sk-item\"><div class=\"sk-estimator sk-toggleable\"><input class=\"sk-toggleable__control sk-hidden--visually\" id=\"sk-estimator-id-10\" type=\"checkbox\" ><label for=\"sk-estimator-id-10\" class=\"sk-toggleable__label sk-toggleable__label-arrow\">OneHotEncoder</label><div class=\"sk-toggleable__content\"><pre>OneHotEncoder(categories=[array([&#x27;Acura&#x27;, &#x27;Asia&#x27;, &#x27;Aston Martin&#x27;, &#x27;Audi&#x27;, &#x27;BMW&#x27;, &#x27;BYD&#x27;, &#x27;Baic&#x27;,\n",
       "       &#x27;Bentley&#x27;, &#x27;Buick&#x27;, &#x27;Cadillac&#x27;, &#x27;Changan&#x27;, &#x27;Chery&#x27;, &#x27;Chevrolet&#x27;,\n",
       "       &#x27;Chrysler&#x27;, &#x27;Citroen&#x27;, &#x27;Daewoo&#x27;, &#x27;Daihatsu&#x27;, &#x27;Dodge&#x27;, &#x27;Ferrari&#x27;,\n",
       "       &#x27;Fiat&#x27;, &#x27;Ford&#x27;, &#x27;Gaz&#x27;, &#x27;Haima&#x27;, &#x27;Haval&#x27;, &#x27;Hãng khác&#x27;, &#x27;Honda&#x27;,\n",
       "       &#x27;HongQi&#x27;, &#x27;Hyundai&#x27;, &#x27;Infiniti&#x27;, &#x27;Isuzu&#x27;, &#x27;Jaguar&#x27;, &#x27;Jeep&#x27;, &#x27;Kia&#x27;,\n",
       "       &#x27;Lada&#x27;, &#x27;Lamborghini&#x27;, &#x27;LandRo...\n",
       "       &#x27;XJ series&#x27;, &#x27;XL 7&#x27;, &#x27;XLV&#x27;, &#x27;Xcent&#x27;, &#x27;Xpander&#x27;, &#x27;Xpander Cross&#x27;,\n",
       "       &#x27;Yaris&#x27;, &#x27;Yaris Verso&#x27;, &#x27;Z4&#x27;, &#x27;Z4 Roadster&#x27;, &#x27;ZDX&#x27;, &#x27;ZS&#x27;, &#x27;Zace&#x27;,\n",
       "       &#x27;Zinger&#x27;, &#x27;eMighty&#x27;, &#x27;i20&#x27;, &#x27;i3&#x27;, &#x27;i30&#x27;, &#x27;i8&#x27;], dtype=object),\n",
       "                          array([&#x27;Coupe (2 cửa)&#x27;, &#x27;Hatchback&#x27;, &#x27;Kiểu dáng khác&#x27;, &#x27;Minivan (MPV)&#x27;,\n",
       "       &#x27;Mui trần&#x27;, &#x27;Pick-up (bán tải)&#x27;, &#x27;SUV / Cross over&#x27;, &#x27;Sedan&#x27;,\n",
       "       &#x27;Van&#x27;], dtype=object),\n",
       "                          array([&#x27;electric&#x27;, &#x27;hybrid&#x27;, &#x27;oil&#x27;, &#x27;petrol&#x27;], dtype=object),\n",
       "                          array([&#x27;new&#x27;, &#x27;used&#x27;], dtype=object)])</pre></div></div></div></div></div></div><div class=\"sk-parallel-item\"><div class=\"sk-item\"><div class=\"sk-label-container\"><div class=\"sk-label sk-toggleable\"><input class=\"sk-toggleable__control sk-hidden--visually\" id=\"sk-estimator-id-11\" type=\"checkbox\" ><label for=\"sk-estimator-id-11\" class=\"sk-toggleable__label sk-toggleable__label-arrow\">remainder</label><div class=\"sk-toggleable__content\"><pre></pre></div></div></div><div class=\"sk-serial\"><div class=\"sk-item\"><div class=\"sk-estimator sk-toggleable\"><input class=\"sk-toggleable__control sk-hidden--visually\" id=\"sk-estimator-id-12\" type=\"checkbox\" ><label for=\"sk-estimator-id-12\" class=\"sk-toggleable__label sk-toggleable__label-arrow\">passthrough</label><div class=\"sk-toggleable__content\"><pre>passthrough</pre></div></div></div></div></div></div></div></div></div></div>"
      ],
      "text/plain": [
       "ColumnTransformer(remainder='passthrough',\n",
       "                  transformers=[('onehotencoder',\n",
       "                                 OneHotEncoder(categories=[array(['Acura', 'Asia', 'Aston Martin', 'Audi', 'BMW', 'BYD', 'Baic',\n",
       "       'Bentley', 'Buick', 'Cadillac', 'Changan', 'Chery', 'Chevrolet',\n",
       "       'Chrysler', 'Citroen', 'Daewoo', 'Daihatsu', 'Dodge', 'Ferrari',\n",
       "       'Fiat', 'Ford', 'Gaz', 'Haima', 'Haval', 'Hãng khác', 'Honda',\n",
       "       'HongQi', 'Hyund...\n",
       "       'Yaris', 'Yaris Verso', 'Z4', 'Z4 Roadster', 'ZDX', 'ZS', 'Zace',\n",
       "       'Zinger', 'eMighty', 'i20', 'i3', 'i30', 'i8'], dtype=object),\n",
       "                                                           array(['Coupe (2 cửa)', 'Hatchback', 'Kiểu dáng khác', 'Minivan (MPV)',\n",
       "       'Mui trần', 'Pick-up (bán tải)', 'SUV / Cross over', 'Sedan',\n",
       "       'Van'], dtype=object),\n",
       "                                                           array(['electric', 'hybrid', 'oil', 'petrol'], dtype=object),\n",
       "                                                           array(['new', 'used'], dtype=object)]),\n",
       "                                 ['brand', 'model', 'type_car', 'fuel',\n",
       "                                  'condition'])])"
      ]
     },
     "execution_count": 31,
     "metadata": {},
     "output_type": "execute_result"
    }
   ],
   "source": [
    "column_trans = make_column_transformer((OneHotEncoder(categories = ohe.categories_), ['brand', 'model', 'type_car', 'fuel', 'condition']), remainder = 'passthrough')\n",
    "column_trans"
   ]
  },
  {
   "cell_type": "code",
   "execution_count": 32,
   "metadata": {},
   "outputs": [],
   "source": [
    "def training(model, column_trans, X_train, y_train, X_test, y_test):\n",
    "    pipe = make_pipeline(column_trans, model)\n",
    "    pipe.fit(X_train, y_train)\n",
    "    y_pred = pipe.predict(X_test)\n",
    "    print(f'{model} reach R2 Score: {r2_score(y_test, y_pred)}')\n",
    "    return pipe"
   ]
  },
  {
   "cell_type": "code",
   "execution_count": 33,
   "metadata": {},
   "outputs": [],
   "source": [
    "def training_with_gridsearch(model, column_trans, X_train, X_test, y_test, y_train, param_grid):\n",
    "    pipe = make_pipeline(column_trans, model)\n",
    "    param_grid = param_grid\n",
    "    grid = RandomizedSearchCV(pipe, param_grid, cv=5, n_jobs=-1, verbose=1)\n",
    "    grid.fit(X_train, y_train)\n",
    "    y_pred = grid.predict(X_test)\n",
    "    print(f'{model} reach R2 Score: {r2_score(y_test, y_pred)}')\n",
    "    return grid"
   ]
  },
  {
   "cell_type": "code",
   "execution_count": 34,
   "metadata": {},
   "outputs": [],
   "source": [
    "def cross_validation_model(model, X, y, num_folds=5):\n",
    "    kf = KFold(n_splits=num_folds, shuffle=True, random_state=42)\n",
    "    scores = []\n",
    "    for train_index, test_index in kf.split(X):\n",
    "        X_train, X_test = X.iloc[train_index,:], X.iloc[test_index,:]\n",
    "        y_train, y_test = y.iloc[train_index], y.iloc[test_index]\n",
    "        model.fit(X_train, y_train)\n",
    "        y_pred = model.predict(X_test)\n",
    "        scores.append(r2_score(y_test, y_pred))\n",
    "    return scores"
   ]
  },
  {
   "cell_type": "markdown",
   "metadata": {},
   "source": [
    "### Lasso Regression"
   ]
  },
  {
   "cell_type": "code",
   "execution_count": 35,
   "metadata": {},
   "outputs": [
    {
     "name": "stdout",
     "output_type": "stream",
     "text": [
      "Lasso() reach R2 Score: 0.6969453198853416\n"
     ]
    },
    {
     "name": "stderr",
     "output_type": "stream",
     "text": [
      "c:\\Users\\DTBKhanh\\anaconda3\\envs\\machine_learning\\lib\\site-packages\\sklearn\\linear_model\\_coordinate_descent.py:589: ConvergenceWarning: Objective did not converge. You might want to increase the number of iterations. Duality gap: 4.608609829000492e+21, tolerance: 3.4554136451220296e+18\n",
      "  model = cd_fast.sparse_enet_coordinate_descent(\n"
     ]
    }
   ],
   "source": [
    "lasso = Lasso()\n",
    "lasso_model = training(lasso, column_trans, X_train, y_train, X_test, y_test)"
   ]
  },
  {
   "cell_type": "code",
   "execution_count": 36,
   "metadata": {},
   "outputs": [
    {
     "name": "stderr",
     "output_type": "stream",
     "text": [
      "c:\\Users\\DTBKhanh\\anaconda3\\envs\\machine_learning\\lib\\site-packages\\sklearn\\linear_model\\_coordinate_descent.py:589: ConvergenceWarning: Objective did not converge. You might want to increase the number of iterations. Duality gap: 3.9023157969607585e+21, tolerance: 3.0186803659587395e+18\n",
      "  model = cd_fast.sparse_enet_coordinate_descent(\n",
      "c:\\Users\\DTBKhanh\\anaconda3\\envs\\machine_learning\\lib\\site-packages\\sklearn\\linear_model\\_coordinate_descent.py:589: ConvergenceWarning: Objective did not converge. You might want to increase the number of iterations. Duality gap: 4.2335024549659987e+21, tolerance: 2.911984425443557e+18\n",
      "  model = cd_fast.sparse_enet_coordinate_descent(\n",
      "c:\\Users\\DTBKhanh\\anaconda3\\envs\\machine_learning\\lib\\site-packages\\sklearn\\linear_model\\_coordinate_descent.py:589: ConvergenceWarning: Objective did not converge. You might want to increase the number of iterations. Duality gap: 4.257069175930569e+21, tolerance: 3.1736187334194335e+18\n",
      "  model = cd_fast.sparse_enet_coordinate_descent(\n",
      "c:\\Users\\DTBKhanh\\anaconda3\\envs\\machine_learning\\lib\\site-packages\\sklearn\\linear_model\\_coordinate_descent.py:589: ConvergenceWarning: Objective did not converge. You might want to increase the number of iterations. Duality gap: 3.5121923232424793e+21, tolerance: 2.9824463313752187e+18\n",
      "  model = cd_fast.sparse_enet_coordinate_descent(\n"
     ]
    },
    {
     "name": "stdout",
     "output_type": "stream",
     "text": [
      "Lasso reach R2 Score: 0.6958589848144274\n"
     ]
    },
    {
     "name": "stderr",
     "output_type": "stream",
     "text": [
      "c:\\Users\\DTBKhanh\\anaconda3\\envs\\machine_learning\\lib\\site-packages\\sklearn\\linear_model\\_coordinate_descent.py:589: ConvergenceWarning: Objective did not converge. You might want to increase the number of iterations. Duality gap: 4.4092394838180385e+21, tolerance: 3.1550645671851996e+18\n",
      "  model = cd_fast.sparse_enet_coordinate_descent(\n"
     ]
    }
   ],
   "source": [
    "scores = cross_validation_model(lasso_model, X, y)\n",
    "print(f'Lasso reach R2 Score: {np.mean(scores)}')"
   ]
  },
  {
   "cell_type": "markdown",
   "metadata": {},
   "source": [
    "### Ridge Regression"
   ]
  },
  {
   "cell_type": "code",
   "execution_count": 37,
   "metadata": {},
   "outputs": [
    {
     "name": "stdout",
     "output_type": "stream",
     "text": [
      "Ridge() reach R2 Score: 0.7104216489638314\n"
     ]
    }
   ],
   "source": [
    "ridge_model = Ridge(alpha=1.0)\n",
    "ridge_model = training(ridge_model, column_trans, X_train, y_train, X_test, y_test)"
   ]
  },
  {
   "cell_type": "code",
   "execution_count": 38,
   "metadata": {},
   "outputs": [
    {
     "name": "stdout",
     "output_type": "stream",
     "text": [
      "Ridge model reach R2 Score: 0.687376803846982\n"
     ]
    }
   ],
   "source": [
    "scores = cross_validation_model(ridge_model, X, y)\n",
    "print(f'Ridge model reach R2 Score: {np.mean(scores)}')"
   ]
  },
  {
   "cell_type": "markdown",
   "metadata": {},
   "source": [
    "### Linear Regression"
   ]
  },
  {
   "cell_type": "code",
   "execution_count": 39,
   "metadata": {},
   "outputs": [
    {
     "name": "stdout",
     "output_type": "stream",
     "text": [
      "LinearRegression() reach R2 Score: 0.7003615480546302\n"
     ]
    }
   ],
   "source": [
    "lr = LinearRegression()\n",
    "lr = training(lr, column_trans, X_train, y_train, X_test, y_test)"
   ]
  },
  {
   "cell_type": "code",
   "execution_count": 40,
   "metadata": {},
   "outputs": [
    {
     "name": "stdout",
     "output_type": "stream",
     "text": [
      "Linear Regression model reach R2 Score: 0.6959368181453576\n"
     ]
    }
   ],
   "source": [
    "scores = cross_validation_model(lr, X, y)\n",
    "print(f'Linear Regression model reach R2 Score: {np.mean(scores)}')"
   ]
  },
  {
   "cell_type": "markdown",
   "metadata": {},
   "source": [
    "### Random Forest Regressor"
   ]
  },
  {
   "cell_type": "code",
   "execution_count": 41,
   "metadata": {},
   "outputs": [
    {
     "name": "stdout",
     "output_type": "stream",
     "text": [
      "RandomForestRegressor(max_depth=2, random_state=0) reach R2 Score: 0.2561416676926127\n"
     ]
    }
   ],
   "source": [
    "regr = RandomForestRegressor(max_depth=2, random_state=0)\n",
    "regr = training(regr, column_trans, X_train, y_train, X_test, y_test)"
   ]
  },
  {
   "cell_type": "code",
   "execution_count": 42,
   "metadata": {},
   "outputs": [
    {
     "name": "stdout",
     "output_type": "stream",
     "text": [
      "Random Forest Regressor model reach R2 Score: 0.1948759510451641\n"
     ]
    }
   ],
   "source": [
    "scores = cross_validation_model(regr, X, y)\n",
    "print(f'Random Forest Regressor model reach R2 Score: {np.mean(scores)}')"
   ]
  },
  {
   "cell_type": "markdown",
   "metadata": {},
   "source": [
    "### Decision Tree with max_depth=2, 5"
   ]
  },
  {
   "cell_type": "code",
   "execution_count": 43,
   "metadata": {},
   "outputs": [
    {
     "name": "stdout",
     "output_type": "stream",
     "text": [
      "DecisionTreeRegressor(max_depth=2) reach R2 Score: 0.1678125111564598\n",
      "DecisionTreeRegressor(max_depth=5) reach R2 Score: 0.5007779626073321\n"
     ]
    }
   ],
   "source": [
    "dtr1 = DecisionTreeRegressor(max_depth=2)\n",
    "dtr2 = DecisionTreeRegressor(max_depth=5)\n",
    "dtr1 = training(dtr1, column_trans, X_train, y_train, X_test, y_test)\n",
    "dtr2 = training(dtr2, column_trans, X_train, y_train, X_test, y_test)"
   ]
  },
  {
   "cell_type": "code",
   "execution_count": 44,
   "metadata": {},
   "outputs": [
    {
     "name": "stdout",
     "output_type": "stream",
     "text": [
      "Decision Tree Regressor model reach R2 Score (depth=2): 0.12491929949549066\n",
      "Decision Tree Regressor model reach R2 Score (depth=5): 0.4119715065105429\n"
     ]
    }
   ],
   "source": [
    "scores_dtr1 = cross_validation_model(dtr1, X, y)\n",
    "scores_dtr2 = cross_validation_model(dtr2, X, y)\n",
    "print(f'Decision Tree Regressor model reach R2 Score (depth=2): {np.mean(scores_dtr1)}')\n",
    "print(f'Decision Tree Regressor model reach R2 Score (depth=5): {np.mean(scores_dtr2)}')"
   ]
  },
  {
   "cell_type": "markdown",
   "metadata": {},
   "source": [
    "### XGBoost Regressor"
   ]
  },
  {
   "cell_type": "code",
   "execution_count": 45,
   "metadata": {},
   "outputs": [
    {
     "name": "stdout",
     "output_type": "stream",
     "text": [
      "XGBRegressor(base_score=None, booster=None, callbacks=None,\n",
      "             colsample_bylevel=None, colsample_bynode=None,\n",
      "             colsample_bytree=None, device=None, early_stopping_rounds=None,\n",
      "             enable_categorical=False, eval_metric=None, feature_types=None,\n",
      "             gamma=None, grow_policy=None, importance_type=None,\n",
      "             interaction_constraints=None, learning_rate=None, max_bin=None,\n",
      "             max_cat_threshold=None, max_cat_to_onehot=None,\n",
      "             max_delta_step=None, max_depth=None, max_leaves=None,\n",
      "             min_child_weight=None, missing=nan, monotone_constraints=None,\n",
      "             multi_strategy=None, n_estimators=10, n_jobs=None,\n",
      "             num_parallel_tree=None, objective='reg:linear', ...) reach R2 Score: 0.7397164520570316\n"
     ]
    },
    {
     "name": "stderr",
     "output_type": "stream",
     "text": [
      "c:\\Users\\DTBKhanh\\anaconda3\\envs\\machine_learning\\lib\\site-packages\\xgboost\\core.py:160: UserWarning: [22:32:07] WARNING: C:\\buildkite-agent\\builds\\buildkite-windows-cpu-autoscaling-group-i-07f6e447eee219473-1\\xgboost\\xgboost-ci-windows\\src\\objective\\regression_obj.cu:209: reg:linear is now deprecated in favor of reg:squarederror.\n",
      "  warnings.warn(smsg, UserWarning)\n"
     ]
    }
   ],
   "source": [
    "xgb_r = xg.XGBRegressor(objective ='reg:linear', \n",
    "                  n_estimators = 10, seed = 123)\n",
    "xgb_r = training(xgb_r, column_trans, X_train, y_train, X_test, y_test)"
   ]
  },
  {
   "cell_type": "code",
   "execution_count": 46,
   "metadata": {},
   "outputs": [
    {
     "name": "stderr",
     "output_type": "stream",
     "text": [
      "c:\\Users\\DTBKhanh\\anaconda3\\envs\\machine_learning\\lib\\site-packages\\xgboost\\core.py:160: UserWarning: [22:32:07] WARNING: C:\\buildkite-agent\\builds\\buildkite-windows-cpu-autoscaling-group-i-07f6e447eee219473-1\\xgboost\\xgboost-ci-windows\\src\\objective\\regression_obj.cu:209: reg:linear is now deprecated in favor of reg:squarederror.\n",
      "  warnings.warn(smsg, UserWarning)\n",
      "c:\\Users\\DTBKhanh\\anaconda3\\envs\\machine_learning\\lib\\site-packages\\xgboost\\core.py:160: UserWarning: [22:32:07] WARNING: C:\\buildkite-agent\\builds\\buildkite-windows-cpu-autoscaling-group-i-07f6e447eee219473-1\\xgboost\\xgboost-ci-windows\\src\\objective\\regression_obj.cu:209: reg:linear is now deprecated in favor of reg:squarederror.\n",
      "  warnings.warn(smsg, UserWarning)\n",
      "c:\\Users\\DTBKhanh\\anaconda3\\envs\\machine_learning\\lib\\site-packages\\xgboost\\core.py:160: UserWarning: [22:32:07] WARNING: C:\\buildkite-agent\\builds\\buildkite-windows-cpu-autoscaling-group-i-07f6e447eee219473-1\\xgboost\\xgboost-ci-windows\\src\\objective\\regression_obj.cu:209: reg:linear is now deprecated in favor of reg:squarederror.\n",
      "  warnings.warn(smsg, UserWarning)\n",
      "c:\\Users\\DTBKhanh\\anaconda3\\envs\\machine_learning\\lib\\site-packages\\xgboost\\core.py:160: UserWarning: [22:32:07] WARNING: C:\\buildkite-agent\\builds\\buildkite-windows-cpu-autoscaling-group-i-07f6e447eee219473-1\\xgboost\\xgboost-ci-windows\\src\\objective\\regression_obj.cu:209: reg:linear is now deprecated in favor of reg:squarederror.\n",
      "  warnings.warn(smsg, UserWarning)\n"
     ]
    },
    {
     "name": "stdout",
     "output_type": "stream",
     "text": [
      "XGBoost Regressor model reach R2 Score: 0.6810976048455715\n"
     ]
    },
    {
     "name": "stderr",
     "output_type": "stream",
     "text": [
      "c:\\Users\\DTBKhanh\\anaconda3\\envs\\machine_learning\\lib\\site-packages\\xgboost\\core.py:160: UserWarning: [22:32:08] WARNING: C:\\buildkite-agent\\builds\\buildkite-windows-cpu-autoscaling-group-i-07f6e447eee219473-1\\xgboost\\xgboost-ci-windows\\src\\objective\\regression_obj.cu:209: reg:linear is now deprecated in favor of reg:squarederror.\n",
      "  warnings.warn(smsg, UserWarning)\n"
     ]
    }
   ],
   "source": [
    "scores = cross_validation_model(xgb_r, X, y)\n",
    "print(f'XGBoost Regressor model reach R2 Score: {np.mean(scores)}')"
   ]
  },
  {
   "cell_type": "code",
   "execution_count": 47,
   "metadata": {},
   "outputs": [],
   "source": [
    "# Saving model\n",
    "import pickle\n",
    "pickle.dump(lr, open('lr.pkl', 'wb'))"
   ]
  },
  {
   "cell_type": "code",
   "execution_count": 48,
   "metadata": {},
   "outputs": [
    {
     "name": "stdout",
     "output_type": "stream",
     "text": [
      "Price:  552,871,911 VNĐ\n"
     ]
    }
   ],
   "source": [
    "manufacture_date = 2023\n",
    "brand = 'Hyundai'\n",
    "model = 'Creta'\n",
    "type_car = 'SUV / Cross over'\n",
    "fuel = 'petrol'\n",
    "condition = 'used'\n",
    "\n",
    "price = lr.predict(pd.DataFrame([[manufacture_date, brand, model, type_car, fuel, condition]], columns=['manufacture_date', 'brand', 'model', 'type_car', 'fuel', 'condition']))\n",
    "print('Price: ', '{:,.0f}'.format(price[0]), 'VNĐ')"
   ]
  }
 ],
 "metadata": {
  "kernelspec": {
   "display_name": "kiet_alpha",
   "language": "python",
   "name": "python3"
  },
  "language_info": {
   "codemirror_mode": {
    "name": "ipython",
    "version": 3
   },
   "file_extension": ".py",
   "mimetype": "text/x-python",
   "name": "python",
   "nbconvert_exporter": "python",
   "pygments_lexer": "ipython3",
   "version": "3.10.13"
  }
 },
 "nbformat": 4,
 "nbformat_minor": 2
}
