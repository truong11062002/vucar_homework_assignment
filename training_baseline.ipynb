{
 "cells": [
  {
   "cell_type": "code",
   "execution_count": 125,
   "metadata": {},
   "outputs": [],
   "source": [
    "import pandas as pd\n",
    "import numpy as np\n",
    "\n",
    "from sklearn.preprocessing import OneHotEncoder, LabelEncoder\n",
    "from sklearn.ensemble import RandomForestClassifier\n",
    "from sklearn.metrics import accuracy_score, confusion_matrix, precision_score, recall_score, ConfusionMatrixDisplay\n",
    "from sklearn.model_selection import RandomizedSearchCV, train_test_split\n",
    "from sklearn.svm import SVR\n",
    "from sklearn.ensemble import RandomForestRegressor\n",
    "from sklearn.metrics import mean_squared_error, r2_score, mean_absolute_error\n",
    "from sklearn.linear_model import LinearRegression, Ridge, Lasso\n",
    "from sklearn.tree import DecisionTreeRegressor\n",
    "import xgboost as xg \n",
    "from sklearn.compose  import make_column_transformer\n",
    "from sklearn.pipeline import make_pipeline\n",
    "from sklearn.model_selection import KFold\n",
    "\n",
    "import warnings\n",
    "warnings.simplefilter(action='ignore', category=pd.errors.PerformanceWarning)"
   ]
  },
  {
   "cell_type": "code",
   "execution_count": 126,
   "metadata": {},
   "outputs": [],
   "source": [
    "data = pd.read_csv('./car_final.csv', index_col=0)"
   ]
  },
  {
   "cell_type": "code",
   "execution_count": 127,
   "metadata": {},
   "outputs": [
    {
     "data": {
      "text/plain": [
       "(81308, 8)"
      ]
     },
     "execution_count": 127,
     "metadata": {},
     "output_type": "execute_result"
    }
   ],
   "source": [
    "data.shape"
   ]
  },
  {
   "cell_type": "code",
   "execution_count": 128,
   "metadata": {},
   "outputs": [],
   "source": [
    "X = data.drop('price', axis=1)\n",
    "y = data['price']\n",
    "\n",
    "X_train, X_test, y_train, y_test = train_test_split(X, y, test_size=0.1, random_state=40)"
   ]
  },
  {
   "cell_type": "markdown",
   "metadata": {},
   "source": [
    "### Encode categorical features"
   ]
  },
  {
   "cell_type": "code",
   "execution_count": 129,
   "metadata": {},
   "outputs": [
    {
     "data": {
      "text/html": [
       "<style>#sk-container-id-16 {color: black;}#sk-container-id-16 pre{padding: 0;}#sk-container-id-16 div.sk-toggleable {background-color: white;}#sk-container-id-16 label.sk-toggleable__label {cursor: pointer;display: block;width: 100%;margin-bottom: 0;padding: 0.3em;box-sizing: border-box;text-align: center;}#sk-container-id-16 label.sk-toggleable__label-arrow:before {content: \"▸\";float: left;margin-right: 0.25em;color: #696969;}#sk-container-id-16 label.sk-toggleable__label-arrow:hover:before {color: black;}#sk-container-id-16 div.sk-estimator:hover label.sk-toggleable__label-arrow:before {color: black;}#sk-container-id-16 div.sk-toggleable__content {max-height: 0;max-width: 0;overflow: hidden;text-align: left;background-color: #f0f8ff;}#sk-container-id-16 div.sk-toggleable__content pre {margin: 0.2em;color: black;border-radius: 0.25em;background-color: #f0f8ff;}#sk-container-id-16 input.sk-toggleable__control:checked~div.sk-toggleable__content {max-height: 200px;max-width: 100%;overflow: auto;}#sk-container-id-16 input.sk-toggleable__control:checked~label.sk-toggleable__label-arrow:before {content: \"▾\";}#sk-container-id-16 div.sk-estimator input.sk-toggleable__control:checked~label.sk-toggleable__label {background-color: #d4ebff;}#sk-container-id-16 div.sk-label input.sk-toggleable__control:checked~label.sk-toggleable__label {background-color: #d4ebff;}#sk-container-id-16 input.sk-hidden--visually {border: 0;clip: rect(1px 1px 1px 1px);clip: rect(1px, 1px, 1px, 1px);height: 1px;margin: -1px;overflow: hidden;padding: 0;position: absolute;width: 1px;}#sk-container-id-16 div.sk-estimator {font-family: monospace;background-color: #f0f8ff;border: 1px dotted black;border-radius: 0.25em;box-sizing: border-box;margin-bottom: 0.5em;}#sk-container-id-16 div.sk-estimator:hover {background-color: #d4ebff;}#sk-container-id-16 div.sk-parallel-item::after {content: \"\";width: 100%;border-bottom: 1px solid gray;flex-grow: 1;}#sk-container-id-16 div.sk-label:hover label.sk-toggleable__label {background-color: #d4ebff;}#sk-container-id-16 div.sk-serial::before {content: \"\";position: absolute;border-left: 1px solid gray;box-sizing: border-box;top: 0;bottom: 0;left: 50%;z-index: 0;}#sk-container-id-16 div.sk-serial {display: flex;flex-direction: column;align-items: center;background-color: white;padding-right: 0.2em;padding-left: 0.2em;position: relative;}#sk-container-id-16 div.sk-item {position: relative;z-index: 1;}#sk-container-id-16 div.sk-parallel {display: flex;align-items: stretch;justify-content: center;background-color: white;position: relative;}#sk-container-id-16 div.sk-item::before, #sk-container-id-16 div.sk-parallel-item::before {content: \"\";position: absolute;border-left: 1px solid gray;box-sizing: border-box;top: 0;bottom: 0;left: 50%;z-index: -1;}#sk-container-id-16 div.sk-parallel-item {display: flex;flex-direction: column;z-index: 1;position: relative;background-color: white;}#sk-container-id-16 div.sk-parallel-item:first-child::after {align-self: flex-end;width: 50%;}#sk-container-id-16 div.sk-parallel-item:last-child::after {align-self: flex-start;width: 50%;}#sk-container-id-16 div.sk-parallel-item:only-child::after {width: 0;}#sk-container-id-16 div.sk-dashed-wrapped {border: 1px dashed gray;margin: 0 0.4em 0.5em 0.4em;box-sizing: border-box;padding-bottom: 0.4em;background-color: white;}#sk-container-id-16 div.sk-label label {font-family: monospace;font-weight: bold;display: inline-block;line-height: 1.2em;}#sk-container-id-16 div.sk-label-container {text-align: center;}#sk-container-id-16 div.sk-container {/* jupyter's `normalize.less` sets `[hidden] { display: none; }` but bootstrap.min.css set `[hidden] { display: none !important; }` so we also need the `!important` here to be able to override the default hidden behavior on the sphinx rendered scikit-learn.org. See: https://github.com/scikit-learn/scikit-learn/issues/21755 */display: inline-block !important;position: relative;}#sk-container-id-16 div.sk-text-repr-fallback {display: none;}</style><div id=\"sk-container-id-16\" class=\"sk-top-container\"><div class=\"sk-text-repr-fallback\"><pre>OneHotEncoder()</pre><b>In a Jupyter environment, please rerun this cell to show the HTML representation or trust the notebook. <br />On GitHub, the HTML representation is unable to render, please try loading this page with nbviewer.org.</b></div><div class=\"sk-container\" hidden><div class=\"sk-item\"><div class=\"sk-estimator sk-toggleable\"><input class=\"sk-toggleable__control sk-hidden--visually\" id=\"sk-estimator-id-48\" type=\"checkbox\" checked><label for=\"sk-estimator-id-48\" class=\"sk-toggleable__label sk-toggleable__label-arrow\">OneHotEncoder</label><div class=\"sk-toggleable__content\"><pre>OneHotEncoder()</pre></div></div></div></div></div>"
      ],
      "text/plain": [
       "OneHotEncoder()"
      ]
     },
     "execution_count": 129,
     "metadata": {},
     "output_type": "execute_result"
    }
   ],
   "source": [
    "ohe = OneHotEncoder()\n",
    "ohe.fit(X[['model', 'brand', 'type_car', 'fuel', 'condition']])"
   ]
  },
  {
   "cell_type": "code",
   "execution_count": 130,
   "metadata": {},
   "outputs": [
    {
     "data": {
      "text/html": [
       "<style>#sk-container-id-17 {color: black;}#sk-container-id-17 pre{padding: 0;}#sk-container-id-17 div.sk-toggleable {background-color: white;}#sk-container-id-17 label.sk-toggleable__label {cursor: pointer;display: block;width: 100%;margin-bottom: 0;padding: 0.3em;box-sizing: border-box;text-align: center;}#sk-container-id-17 label.sk-toggleable__label-arrow:before {content: \"▸\";float: left;margin-right: 0.25em;color: #696969;}#sk-container-id-17 label.sk-toggleable__label-arrow:hover:before {color: black;}#sk-container-id-17 div.sk-estimator:hover label.sk-toggleable__label-arrow:before {color: black;}#sk-container-id-17 div.sk-toggleable__content {max-height: 0;max-width: 0;overflow: hidden;text-align: left;background-color: #f0f8ff;}#sk-container-id-17 div.sk-toggleable__content pre {margin: 0.2em;color: black;border-radius: 0.25em;background-color: #f0f8ff;}#sk-container-id-17 input.sk-toggleable__control:checked~div.sk-toggleable__content {max-height: 200px;max-width: 100%;overflow: auto;}#sk-container-id-17 input.sk-toggleable__control:checked~label.sk-toggleable__label-arrow:before {content: \"▾\";}#sk-container-id-17 div.sk-estimator input.sk-toggleable__control:checked~label.sk-toggleable__label {background-color: #d4ebff;}#sk-container-id-17 div.sk-label input.sk-toggleable__control:checked~label.sk-toggleable__label {background-color: #d4ebff;}#sk-container-id-17 input.sk-hidden--visually {border: 0;clip: rect(1px 1px 1px 1px);clip: rect(1px, 1px, 1px, 1px);height: 1px;margin: -1px;overflow: hidden;padding: 0;position: absolute;width: 1px;}#sk-container-id-17 div.sk-estimator {font-family: monospace;background-color: #f0f8ff;border: 1px dotted black;border-radius: 0.25em;box-sizing: border-box;margin-bottom: 0.5em;}#sk-container-id-17 div.sk-estimator:hover {background-color: #d4ebff;}#sk-container-id-17 div.sk-parallel-item::after {content: \"\";width: 100%;border-bottom: 1px solid gray;flex-grow: 1;}#sk-container-id-17 div.sk-label:hover label.sk-toggleable__label {background-color: #d4ebff;}#sk-container-id-17 div.sk-serial::before {content: \"\";position: absolute;border-left: 1px solid gray;box-sizing: border-box;top: 0;bottom: 0;left: 50%;z-index: 0;}#sk-container-id-17 div.sk-serial {display: flex;flex-direction: column;align-items: center;background-color: white;padding-right: 0.2em;padding-left: 0.2em;position: relative;}#sk-container-id-17 div.sk-item {position: relative;z-index: 1;}#sk-container-id-17 div.sk-parallel {display: flex;align-items: stretch;justify-content: center;background-color: white;position: relative;}#sk-container-id-17 div.sk-item::before, #sk-container-id-17 div.sk-parallel-item::before {content: \"\";position: absolute;border-left: 1px solid gray;box-sizing: border-box;top: 0;bottom: 0;left: 50%;z-index: -1;}#sk-container-id-17 div.sk-parallel-item {display: flex;flex-direction: column;z-index: 1;position: relative;background-color: white;}#sk-container-id-17 div.sk-parallel-item:first-child::after {align-self: flex-end;width: 50%;}#sk-container-id-17 div.sk-parallel-item:last-child::after {align-self: flex-start;width: 50%;}#sk-container-id-17 div.sk-parallel-item:only-child::after {width: 0;}#sk-container-id-17 div.sk-dashed-wrapped {border: 1px dashed gray;margin: 0 0.4em 0.5em 0.4em;box-sizing: border-box;padding-bottom: 0.4em;background-color: white;}#sk-container-id-17 div.sk-label label {font-family: monospace;font-weight: bold;display: inline-block;line-height: 1.2em;}#sk-container-id-17 div.sk-label-container {text-align: center;}#sk-container-id-17 div.sk-container {/* jupyter's `normalize.less` sets `[hidden] { display: none; }` but bootstrap.min.css set `[hidden] { display: none !important; }` so we also need the `!important` here to be able to override the default hidden behavior on the sphinx rendered scikit-learn.org. See: https://github.com/scikit-learn/scikit-learn/issues/21755 */display: inline-block !important;position: relative;}#sk-container-id-17 div.sk-text-repr-fallback {display: none;}</style><div id=\"sk-container-id-17\" class=\"sk-top-container\"><div class=\"sk-text-repr-fallback\"><pre>ColumnTransformer(remainder=&#x27;passthrough&#x27;,\n",
       "                  transformers=[(&#x27;onehotencoder&#x27;,\n",
       "                                 OneHotEncoder(categories=[array([&#x27;1 Series&#x27;, &#x27;1083&#x27;, &#x27;1500&#x27;, &#x27;2&#x27;, &#x27;2 Series&#x27;, &#x27;200&#x27;, &#x27;2008&#x27;, &#x27;208&#x27;,\n",
       "       &#x27;3&#x27;, &#x27;3 Series&#x27;, &#x27;3000GT&#x27;, &#x27;3008&#x27;, &#x27;300C&#x27;, &#x27;305&#x27;, &#x27;308&#x27;, &#x27;323&#x27;,\n",
       "       &#x27;4 Runner&#x27;, &#x27;4 Series&#x27;, &#x27;404&#x27;, &#x27;405&#x27;, &#x27;408&#x27;, &#x27;5&#x27;, &#x27;5 Series&#x27;,\n",
       "       &#x27;500&#x27;, &#x27;5008&#x27;, &#x27;505&#x27;, &#x27;508&#x27;, &#x27;520&#x27;, &#x27;6&#x27;, &#x27;6 Series&#x27;, &#x27;620&#x27;, &#x27;626&#x27;,\n",
       "       &#x27;7&#x27;, &#x27;7 SUV&#x27;, &#x27;7 Series&#x27;, &#x27;7...\n",
       "       &#x27;Smart&#x27;, &#x27;Ssangyong&#x27;, &#x27;Subaru&#x27;, &#x27;Suzuki&#x27;, &#x27;Toyota&#x27;, &#x27;Vinfast&#x27;,\n",
       "       &#x27;Volkswagen&#x27;, &#x27;Volvo&#x27;, &#x27;Zotye&#x27;], dtype=object),\n",
       "                                                           array([&#x27;Coupe (2 cửa)&#x27;, &#x27;Hatchback&#x27;, &#x27;Kiểu dáng khác&#x27;, &#x27;Minivan (MPV)&#x27;,\n",
       "       &#x27;Mui trần&#x27;, &#x27;Pick-up (bán tải)&#x27;, &#x27;SUV / Cross over&#x27;, &#x27;Sedan&#x27;,\n",
       "       &#x27;Van&#x27;], dtype=object),\n",
       "                                                           array([&#x27;electric&#x27;, &#x27;hybrid&#x27;, &#x27;oil&#x27;, &#x27;petrol&#x27;], dtype=object),\n",
       "                                                           array([&#x27;new&#x27;, &#x27;used&#x27;], dtype=object)]),\n",
       "                                 [&#x27;model&#x27;, &#x27;brand&#x27;, &#x27;type_car&#x27;, &#x27;fuel&#x27;,\n",
       "                                  &#x27;condition&#x27;])])</pre><b>In a Jupyter environment, please rerun this cell to show the HTML representation or trust the notebook. <br />On GitHub, the HTML representation is unable to render, please try loading this page with nbviewer.org.</b></div><div class=\"sk-container\" hidden><div class=\"sk-item sk-dashed-wrapped\"><div class=\"sk-label-container\"><div class=\"sk-label sk-toggleable\"><input class=\"sk-toggleable__control sk-hidden--visually\" id=\"sk-estimator-id-49\" type=\"checkbox\" ><label for=\"sk-estimator-id-49\" class=\"sk-toggleable__label sk-toggleable__label-arrow\">ColumnTransformer</label><div class=\"sk-toggleable__content\"><pre>ColumnTransformer(remainder=&#x27;passthrough&#x27;,\n",
       "                  transformers=[(&#x27;onehotencoder&#x27;,\n",
       "                                 OneHotEncoder(categories=[array([&#x27;1 Series&#x27;, &#x27;1083&#x27;, &#x27;1500&#x27;, &#x27;2&#x27;, &#x27;2 Series&#x27;, &#x27;200&#x27;, &#x27;2008&#x27;, &#x27;208&#x27;,\n",
       "       &#x27;3&#x27;, &#x27;3 Series&#x27;, &#x27;3000GT&#x27;, &#x27;3008&#x27;, &#x27;300C&#x27;, &#x27;305&#x27;, &#x27;308&#x27;, &#x27;323&#x27;,\n",
       "       &#x27;4 Runner&#x27;, &#x27;4 Series&#x27;, &#x27;404&#x27;, &#x27;405&#x27;, &#x27;408&#x27;, &#x27;5&#x27;, &#x27;5 Series&#x27;,\n",
       "       &#x27;500&#x27;, &#x27;5008&#x27;, &#x27;505&#x27;, &#x27;508&#x27;, &#x27;520&#x27;, &#x27;6&#x27;, &#x27;6 Series&#x27;, &#x27;620&#x27;, &#x27;626&#x27;,\n",
       "       &#x27;7&#x27;, &#x27;7 SUV&#x27;, &#x27;7 Series&#x27;, &#x27;7...\n",
       "       &#x27;Smart&#x27;, &#x27;Ssangyong&#x27;, &#x27;Subaru&#x27;, &#x27;Suzuki&#x27;, &#x27;Toyota&#x27;, &#x27;Vinfast&#x27;,\n",
       "       &#x27;Volkswagen&#x27;, &#x27;Volvo&#x27;, &#x27;Zotye&#x27;], dtype=object),\n",
       "                                                           array([&#x27;Coupe (2 cửa)&#x27;, &#x27;Hatchback&#x27;, &#x27;Kiểu dáng khác&#x27;, &#x27;Minivan (MPV)&#x27;,\n",
       "       &#x27;Mui trần&#x27;, &#x27;Pick-up (bán tải)&#x27;, &#x27;SUV / Cross over&#x27;, &#x27;Sedan&#x27;,\n",
       "       &#x27;Van&#x27;], dtype=object),\n",
       "                                                           array([&#x27;electric&#x27;, &#x27;hybrid&#x27;, &#x27;oil&#x27;, &#x27;petrol&#x27;], dtype=object),\n",
       "                                                           array([&#x27;new&#x27;, &#x27;used&#x27;], dtype=object)]),\n",
       "                                 [&#x27;model&#x27;, &#x27;brand&#x27;, &#x27;type_car&#x27;, &#x27;fuel&#x27;,\n",
       "                                  &#x27;condition&#x27;])])</pre></div></div></div><div class=\"sk-parallel\"><div class=\"sk-parallel-item\"><div class=\"sk-item\"><div class=\"sk-label-container\"><div class=\"sk-label sk-toggleable\"><input class=\"sk-toggleable__control sk-hidden--visually\" id=\"sk-estimator-id-50\" type=\"checkbox\" ><label for=\"sk-estimator-id-50\" class=\"sk-toggleable__label sk-toggleable__label-arrow\">onehotencoder</label><div class=\"sk-toggleable__content\"><pre>[&#x27;model&#x27;, &#x27;brand&#x27;, &#x27;type_car&#x27;, &#x27;fuel&#x27;, &#x27;condition&#x27;]</pre></div></div></div><div class=\"sk-serial\"><div class=\"sk-item\"><div class=\"sk-estimator sk-toggleable\"><input class=\"sk-toggleable__control sk-hidden--visually\" id=\"sk-estimator-id-51\" type=\"checkbox\" ><label for=\"sk-estimator-id-51\" class=\"sk-toggleable__label sk-toggleable__label-arrow\">OneHotEncoder</label><div class=\"sk-toggleable__content\"><pre>OneHotEncoder(categories=[array([&#x27;1 Series&#x27;, &#x27;1083&#x27;, &#x27;1500&#x27;, &#x27;2&#x27;, &#x27;2 Series&#x27;, &#x27;200&#x27;, &#x27;2008&#x27;, &#x27;208&#x27;,\n",
       "       &#x27;3&#x27;, &#x27;3 Series&#x27;, &#x27;3000GT&#x27;, &#x27;3008&#x27;, &#x27;300C&#x27;, &#x27;305&#x27;, &#x27;308&#x27;, &#x27;323&#x27;,\n",
       "       &#x27;4 Runner&#x27;, &#x27;4 Series&#x27;, &#x27;404&#x27;, &#x27;405&#x27;, &#x27;408&#x27;, &#x27;5&#x27;, &#x27;5 Series&#x27;,\n",
       "       &#x27;500&#x27;, &#x27;5008&#x27;, &#x27;505&#x27;, &#x27;508&#x27;, &#x27;520&#x27;, &#x27;6&#x27;, &#x27;6 Series&#x27;, &#x27;620&#x27;, &#x27;626&#x27;,\n",
       "       &#x27;7&#x27;, &#x27;7 SUV&#x27;, &#x27;7 Series&#x27;, &#x27;718&#x27;, &#x27;86&#x27;, &#x27;911&#x27;, &#x27;929&#x27;, &#x27;940&#x27;,\n",
       "       &#x27;A Class&#x27;, &#x27;A1&#x27;, &#x27;A2&#x27;, &#x27;A3&#x27;, &#x27;A4&#x27;, &#x27;A5&#x27;, &#x27;A6&#x27;, &#x27;A7&#x27;, &#x27;A...\n",
       "       &#x27;RAM&#x27;, &#x27;Renault&#x27;, &#x27;Rolls Royce&#x27;, &#x27;Rover&#x27;, &#x27;SYM&#x27;, &#x27;Samsung&#x27;,\n",
       "       &#x27;Smart&#x27;, &#x27;Ssangyong&#x27;, &#x27;Subaru&#x27;, &#x27;Suzuki&#x27;, &#x27;Toyota&#x27;, &#x27;Vinfast&#x27;,\n",
       "       &#x27;Volkswagen&#x27;, &#x27;Volvo&#x27;, &#x27;Zotye&#x27;], dtype=object),\n",
       "                          array([&#x27;Coupe (2 cửa)&#x27;, &#x27;Hatchback&#x27;, &#x27;Kiểu dáng khác&#x27;, &#x27;Minivan (MPV)&#x27;,\n",
       "       &#x27;Mui trần&#x27;, &#x27;Pick-up (bán tải)&#x27;, &#x27;SUV / Cross over&#x27;, &#x27;Sedan&#x27;,\n",
       "       &#x27;Van&#x27;], dtype=object),\n",
       "                          array([&#x27;electric&#x27;, &#x27;hybrid&#x27;, &#x27;oil&#x27;, &#x27;petrol&#x27;], dtype=object),\n",
       "                          array([&#x27;new&#x27;, &#x27;used&#x27;], dtype=object)])</pre></div></div></div></div></div></div><div class=\"sk-parallel-item\"><div class=\"sk-item\"><div class=\"sk-label-container\"><div class=\"sk-label sk-toggleable\"><input class=\"sk-toggleable__control sk-hidden--visually\" id=\"sk-estimator-id-52\" type=\"checkbox\" ><label for=\"sk-estimator-id-52\" class=\"sk-toggleable__label sk-toggleable__label-arrow\">remainder</label><div class=\"sk-toggleable__content\"><pre></pre></div></div></div><div class=\"sk-serial\"><div class=\"sk-item\"><div class=\"sk-estimator sk-toggleable\"><input class=\"sk-toggleable__control sk-hidden--visually\" id=\"sk-estimator-id-53\" type=\"checkbox\" ><label for=\"sk-estimator-id-53\" class=\"sk-toggleable__label sk-toggleable__label-arrow\">passthrough</label><div class=\"sk-toggleable__content\"><pre>passthrough</pre></div></div></div></div></div></div></div></div></div></div>"
      ],
      "text/plain": [
       "ColumnTransformer(remainder='passthrough',\n",
       "                  transformers=[('onehotencoder',\n",
       "                                 OneHotEncoder(categories=[array(['1 Series', '1083', '1500', '2', '2 Series', '200', '2008', '208',\n",
       "       '3', '3 Series', '3000GT', '3008', '300C', '305', '308', '323',\n",
       "       '4 Runner', '4 Series', '404', '405', '408', '5', '5 Series',\n",
       "       '500', '5008', '505', '508', '520', '6', '6 Series', '620', '626',\n",
       "       '7', '7 SUV', '7 Series', '7...\n",
       "       'Smart', 'Ssangyong', 'Subaru', 'Suzuki', 'Toyota', 'Vinfast',\n",
       "       'Volkswagen', 'Volvo', 'Zotye'], dtype=object),\n",
       "                                                           array(['Coupe (2 cửa)', 'Hatchback', 'Kiểu dáng khác', 'Minivan (MPV)',\n",
       "       'Mui trần', 'Pick-up (bán tải)', 'SUV / Cross over', 'Sedan',\n",
       "       'Van'], dtype=object),\n",
       "                                                           array(['electric', 'hybrid', 'oil', 'petrol'], dtype=object),\n",
       "                                                           array(['new', 'used'], dtype=object)]),\n",
       "                                 ['model', 'brand', 'type_car', 'fuel',\n",
       "                                  'condition'])])"
      ]
     },
     "execution_count": 130,
     "metadata": {},
     "output_type": "execute_result"
    }
   ],
   "source": [
    "column_trans = make_column_transformer((OneHotEncoder(categories = ohe.categories_), ['model', 'brand', 'type_car', 'fuel', 'condition']), remainder = 'passthrough')\n",
    "column_trans"
   ]
  },
  {
   "cell_type": "markdown",
   "metadata": {},
   "source": [
    "### Transformation"
   ]
  },
  {
   "cell_type": "code",
   "execution_count": 131,
   "metadata": {},
   "outputs": [],
   "source": [
    "from sklearn.preprocessing import MinMaxScaler\n",
    "# Transforming the data\n",
    "mns = MinMaxScaler()\n",
    "X_train['mileage_v2'] = mns.fit_transform(X_train[['mileage_v2']])\n",
    "X_test['mileage_v2'] = mns.transform(X_test[['mileage_v2']])\n",
    "\n",
    "y_train = mns.fit_transform(y_train.values.reshape(-1,1))\n",
    "y_test = mns.transform(y_test.values.reshape(-1,1))"
   ]
  },
  {
   "cell_type": "markdown",
   "metadata": {},
   "source": [
    "### Training"
   ]
  },
  {
   "cell_type": "code",
   "execution_count": 132,
   "metadata": {},
   "outputs": [],
   "source": [
    "def training(model, column_trans, X_train, y_train, X_test, y_test):\n",
    "    pipe = make_pipeline(column_trans, model)\n",
    "    pipe.fit(X_train, y_train)\n",
    "    y_pred = pipe.predict(X_test)\n",
    "    print(f'{model} reach R2 Score: {r2_score(y_test, y_pred)}')\n",
    "    # Evaluate with MAE\n",
    "    print(f'{model} reach MAE: {mean_absolute_error(y_test, y_pred)}')\n",
    "    # Evaluate with MSE\n",
    "    print(f'{model} reach MSE: {mean_squared_error(y_test, y_pred)}')\n",
    "    # Evaluate with RMSE\n",
    "    print(f'{model} reach RMSE: {np.sqrt(mean_squared_error(y_test, y_pred))}')\n",
    "    return pipe"
   ]
  },
  {
   "cell_type": "code",
   "execution_count": 133,
   "metadata": {},
   "outputs": [],
   "source": [
    "def training_with_gridsearch(model, column_trans, X_train, X_test, y_test, y_train, param_grid):\n",
    "    pipe = make_pipeline(column_trans, model)\n",
    "    param_grid = param_grid\n",
    "    grid = RandomizedSearchCV(pipe, param_grid, cv=5, n_jobs=-1, verbose=1)\n",
    "    grid.fit(X_train, y_train)\n",
    "    y_pred = grid.predict(X_test)\n",
    "    print(f'{model} reach R2 Score: {r2_score(y_test, y_pred)}')\n",
    "    # Evaluate with MAE\n",
    "    print(f'{model} reach MAE: {mean_absolute_error(y_test, y_pred)}')\n",
    "    # Evaluate with MSE\n",
    "    print(f'{model} reach MSE: {mean_squared_error(y_test, y_pred)}')\n",
    "    # Evaluate with RMSE\n",
    "    print(f'{model} reach RMSE: {np.sqrt(mean_squared_error(y_test, y_pred))}')\n",
    "    \n",
    "    return grid"
   ]
  },
  {
   "cell_type": "code",
   "execution_count": 134,
   "metadata": {},
   "outputs": [],
   "source": [
    "def cross_validation_model(model, X, y, num_folds=5):\n",
    "    kf = KFold(n_splits=num_folds, shuffle=True, random_state=42)\n",
    "    scores = []\n",
    "    for train_index, test_index in kf.split(X):\n",
    "        X_train, X_test = X.iloc[train_index,:], X.iloc[test_index,:]\n",
    "        y_train, y_test = y.iloc[train_index], y.iloc[test_index]\n",
    "        model.fit(X_train, y_train)\n",
    "        y_pred = model.predict(X_test)\n",
    "        scores.append(r2_score(y_test, y_pred))\n",
    "    return scores"
   ]
  },
  {
   "cell_type": "markdown",
   "metadata": {},
   "source": [
    "### Lasso Regression"
   ]
  },
  {
   "cell_type": "code",
   "execution_count": 135,
   "metadata": {},
   "outputs": [
    {
     "name": "stdout",
     "output_type": "stream",
     "text": [
      "Lasso() reach R2 Score: -2.7355995769529073e-05\n",
      "Lasso() reach MAE: 0.009126703700453707\n",
      "Lasso() reach MSE: 0.00042766641569480594\n",
      "Lasso() reach RMSE: 0.02068009709103915\n"
     ]
    }
   ],
   "source": [
    "lasso = Lasso()\n",
    "lasso_model = training(lasso, column_trans, X_train, y_train, X_test, y_test)"
   ]
  },
  {
   "cell_type": "code",
   "execution_count": 136,
   "metadata": {},
   "outputs": [
    {
     "name": "stderr",
     "output_type": "stream",
     "text": [
      "c:\\Users\\DTBKhanh\\anaconda3\\envs\\machine_learning\\lib\\site-packages\\sklearn\\linear_model\\_coordinate_descent.py:589: ConvergenceWarning: Objective did not converge. You might want to increase the number of iterations. Duality gap: 3.924912813287057e+21, tolerance: 3.0608427305833457e+18\n",
      "  model = cd_fast.sparse_enet_coordinate_descent(\n",
      "c:\\Users\\DTBKhanh\\anaconda3\\envs\\machine_learning\\lib\\site-packages\\sklearn\\linear_model\\_coordinate_descent.py:589: ConvergenceWarning: Objective did not converge. You might want to increase the number of iterations. Duality gap: 4.3430337324747514e+21, tolerance: 2.9969402616847094e+18\n",
      "  model = cd_fast.sparse_enet_coordinate_descent(\n",
      "c:\\Users\\DTBKhanh\\anaconda3\\envs\\machine_learning\\lib\\site-packages\\sklearn\\linear_model\\_coordinate_descent.py:589: ConvergenceWarning: Objective did not converge. You might want to increase the number of iterations. Duality gap: 4.2774253647340645e+21, tolerance: 3.108483063059152e+18\n",
      "  model = cd_fast.sparse_enet_coordinate_descent(\n",
      "c:\\Users\\DTBKhanh\\anaconda3\\envs\\machine_learning\\lib\\site-packages\\sklearn\\linear_model\\_coordinate_descent.py:589: ConvergenceWarning: Objective did not converge. You might want to increase the number of iterations. Duality gap: 3.3577202955643603e+21, tolerance: 2.8999213703836027e+18\n",
      "  model = cd_fast.sparse_enet_coordinate_descent(\n"
     ]
    },
    {
     "name": "stdout",
     "output_type": "stream",
     "text": [
      "Lasso reach R2 Score: 0.6942392146711217\n"
     ]
    },
    {
     "name": "stderr",
     "output_type": "stream",
     "text": [
      "c:\\Users\\DTBKhanh\\anaconda3\\envs\\machine_learning\\lib\\site-packages\\sklearn\\linear_model\\_coordinate_descent.py:589: ConvergenceWarning: Objective did not converge. You might want to increase the number of iterations. Duality gap: 4.320449769644469e+21, tolerance: 3.0074993266620544e+18\n",
      "  model = cd_fast.sparse_enet_coordinate_descent(\n"
     ]
    }
   ],
   "source": [
    "scores = cross_validation_model(lasso_model, X, y)\n",
    "print(f'Lasso reach R2 Score: {np.mean(scores)}')"
   ]
  },
  {
   "cell_type": "markdown",
   "metadata": {},
   "source": [
    "### Ridge Regression"
   ]
  },
  {
   "cell_type": "code",
   "execution_count": 137,
   "metadata": {},
   "outputs": [
    {
     "name": "stdout",
     "output_type": "stream",
     "text": [
      "Ridge() reach R2 Score: 0.6777521044300312\n",
      "Ridge() reach MAE: 0.003830993626823712\n",
      "Ridge() reach MSE: 0.0001378108325110515\n",
      "Ridge() reach RMSE: 0.011739285860351622\n"
     ]
    }
   ],
   "source": [
    "ridge_model = Ridge(alpha=1.0)\n",
    "ridge_model = training(ridge_model, column_trans, X_train, y_train, X_test, y_test)"
   ]
  },
  {
   "cell_type": "code",
   "execution_count": 138,
   "metadata": {},
   "outputs": [
    {
     "name": "stdout",
     "output_type": "stream",
     "text": [
      "Ridge model reach R2 Score: 0.09976705530288366\n"
     ]
    }
   ],
   "source": [
    "scores = cross_validation_model(ridge_model, X, y)\n",
    "print(f'Ridge model reach R2 Score: {np.mean(scores)}')"
   ]
  },
  {
   "cell_type": "markdown",
   "metadata": {},
   "source": [
    "### Linear Regression"
   ]
  },
  {
   "cell_type": "code",
   "execution_count": 139,
   "metadata": {},
   "outputs": [
    {
     "name": "stdout",
     "output_type": "stream",
     "text": [
      "LinearRegression() reach R2 Score: 0.6421728796663231\n",
      "LinearRegression() reach MAE: 0.003791516863578661\n",
      "LinearRegression() reach MSE: 0.00015302645580042012\n",
      "LinearRegression() reach RMSE: 0.012370386242976414\n"
     ]
    }
   ],
   "source": [
    "lr = LinearRegression()\n",
    "lr = training(lr, column_trans, X_train, y_train, X_test, y_test)"
   ]
  },
  {
   "cell_type": "code",
   "execution_count": 140,
   "metadata": {},
   "outputs": [
    {
     "name": "stdout",
     "output_type": "stream",
     "text": [
      "Linear Regression model reach R2 Score: 0.213934236107872\n"
     ]
    }
   ],
   "source": [
    "scores = cross_validation_model(lr, X, y)\n",
    "print(f'Linear Regression model reach R2 Score: {np.mean(scores)}')"
   ]
  },
  {
   "cell_type": "markdown",
   "metadata": {},
   "source": [
    "### Random Forest Regressor"
   ]
  },
  {
   "cell_type": "code",
   "execution_count": 141,
   "metadata": {},
   "outputs": [
    {
     "name": "stderr",
     "output_type": "stream",
     "text": [
      "c:\\Users\\DTBKhanh\\anaconda3\\envs\\machine_learning\\lib\\site-packages\\sklearn\\base.py:1152: DataConversionWarning: A column-vector y was passed when a 1d array was expected. Please change the shape of y to (n_samples,), for example using ravel().\n",
      "  return fit_method(estimator, *args, **kwargs)\n"
     ]
    },
    {
     "name": "stdout",
     "output_type": "stream",
     "text": [
      "RandomForestRegressor(max_depth=2, random_state=0) reach R2 Score: 0.30434292357780157\n",
      "RandomForestRegressor(max_depth=2, random_state=0) reach MAE: 0.008009103543744425\n",
      "RandomForestRegressor(max_depth=2, random_state=0) reach MSE: 0.0002975010299892914\n",
      "RandomForestRegressor(max_depth=2, random_state=0) reach RMSE: 0.017248218168532406\n"
     ]
    }
   ],
   "source": [
    "regr = RandomForestRegressor(max_depth=2, random_state=0)\n",
    "regr = training(regr, column_trans, X_train, y_train, X_test, y_test)"
   ]
  },
  {
   "cell_type": "code",
   "execution_count": 142,
   "metadata": {},
   "outputs": [
    {
     "name": "stdout",
     "output_type": "stream",
     "text": [
      "Random Forest Regressor model reach R2 Score: 0.22725499895917717\n"
     ]
    }
   ],
   "source": [
    "scores = cross_validation_model(regr, X, y)\n",
    "print(f'Random Forest Regressor model reach R2 Score: {np.mean(scores)}')"
   ]
  },
  {
   "cell_type": "markdown",
   "metadata": {},
   "source": [
    "### Decision Tree with max_depth=2, 5"
   ]
  },
  {
   "cell_type": "code",
   "execution_count": 143,
   "metadata": {},
   "outputs": [
    {
     "name": "stdout",
     "output_type": "stream",
     "text": [
      "DecisionTreeRegressor(max_depth=2) reach R2 Score: 0.2691105243382357\n",
      "DecisionTreeRegressor(max_depth=2) reach MAE: 0.008161428963112493\n",
      "DecisionTreeRegressor(max_depth=2) reach MSE: 0.0003125683317073629\n",
      "DecisionTreeRegressor(max_depth=2) reach RMSE: 0.017679602136568655\n",
      "--------------------------------------------\n",
      "DecisionTreeRegressor(max_depth=5) reach R2 Score: 0.2827237353427968\n",
      "DecisionTreeRegressor(max_depth=5) reach MAE: 0.006721054125303226\n",
      "DecisionTreeRegressor(max_depth=5) reach MSE: 0.0003067465778108202\n",
      "DecisionTreeRegressor(max_depth=5) reach RMSE: 0.01751418219075102\n"
     ]
    }
   ],
   "source": [
    "dtr1 = DecisionTreeRegressor(max_depth=2)\n",
    "dtr2 = DecisionTreeRegressor(max_depth=5)\n",
    "dtr1 = training(dtr1, column_trans, X_train, y_train, X_test, y_test)\n",
    "print('--------------------------------------------')\n",
    "dtr2 = training(dtr2, column_trans, X_train, y_train, X_test, y_test)"
   ]
  },
  {
   "cell_type": "code",
   "execution_count": 144,
   "metadata": {},
   "outputs": [
    {
     "name": "stdout",
     "output_type": "stream",
     "text": [
      "Decision Tree Regressor model reach R2 Score (depth=2): 0.16127126420379195\n",
      "Decision Tree Regressor model reach R2 Score (depth=5): 0.44967877680206864\n"
     ]
    }
   ],
   "source": [
    "scores_dtr1 = cross_validation_model(dtr1, X, y)\n",
    "scores_dtr2 = cross_validation_model(dtr2, X, y)\n",
    "print(f'Decision Tree Regressor model reach R2 Score (depth=2): {np.mean(scores_dtr1)}')\n",
    "print(f'Decision Tree Regressor model reach R2 Score (depth=5): {np.mean(scores_dtr2)}')"
   ]
  },
  {
   "cell_type": "markdown",
   "metadata": {},
   "source": [
    "### XGBoost Regressor"
   ]
  },
  {
   "cell_type": "code",
   "execution_count": 145,
   "metadata": {},
   "outputs": [
    {
     "name": "stdout",
     "output_type": "stream",
     "text": [
      "XGBRegressor(base_score=None, booster=None, callbacks=None,\n",
      "             colsample_bylevel=None, colsample_bynode=None,\n",
      "             colsample_bytree=None, device=None, early_stopping_rounds=None,\n",
      "             enable_categorical=False, eval_metric=None, feature_types=None,\n",
      "             gamma=None, grow_policy=None, importance_type=None,\n",
      "             interaction_constraints=None, learning_rate=None, max_bin=None,\n",
      "             max_cat_threshold=None, max_cat_to_onehot=None,\n",
      "             max_delta_step=None, max_depth=None, max_leaves=None,\n",
      "             min_child_weight=None, missing=nan, monotone_constraints=None,\n",
      "             multi_strategy=None, n_estimators=10, n_jobs=None,\n",
      "             num_parallel_tree=None, objective='reg:linear', ...) reach R2 Score: 0.7118756966122687\n",
      "XGBRegressor(base_score=None, booster=None, callbacks=None,\n",
      "             colsample_bylevel=None, colsample_bynode=None,\n",
      "             colsample_bytree=None, device=None, early_stopping_rounds=None,\n",
      "             enable_categorical=False, eval_metric=None, feature_types=None,\n",
      "             gamma=None, grow_policy=None, importance_type=None,\n",
      "             interaction_constraints=None, learning_rate=None, max_bin=None,\n",
      "             max_cat_threshold=None, max_cat_to_onehot=None,\n",
      "             max_delta_step=None, max_depth=None, max_leaves=None,\n",
      "             min_child_weight=None, missing=nan, monotone_constraints=None,\n",
      "             multi_strategy=None, n_estimators=10, n_jobs=None,\n",
      "             num_parallel_tree=None, objective='reg:linear', ...) reach MAE: 0.004246748216459471\n",
      "XGBRegressor(base_score=None, booster=None, callbacks=None,\n",
      "             colsample_bylevel=None, colsample_bynode=None,\n",
      "             colsample_bytree=None, device=None, early_stopping_rounds=None,\n",
      "             enable_categorical=False, eval_metric=None, feature_types=None,\n",
      "             gamma=None, grow_policy=None, importance_type=None,\n",
      "             interaction_constraints=None, learning_rate=None, max_bin=None,\n",
      "             max_cat_threshold=None, max_cat_to_onehot=None,\n",
      "             max_delta_step=None, max_depth=None, max_leaves=None,\n",
      "             min_child_weight=None, missing=nan, monotone_constraints=None,\n",
      "             multi_strategy=None, n_estimators=10, n_jobs=None,\n",
      "             num_parallel_tree=None, objective='reg:linear', ...) reach MSE: 0.00012321771736103902\n",
      "XGBRegressor(base_score=None, booster=None, callbacks=None,\n",
      "             colsample_bylevel=None, colsample_bynode=None,\n",
      "             colsample_bytree=None, device=None, early_stopping_rounds=None,\n",
      "             enable_categorical=False, eval_metric=None, feature_types=None,\n",
      "             gamma=None, grow_policy=None, importance_type=None,\n",
      "             interaction_constraints=None, learning_rate=None, max_bin=None,\n",
      "             max_cat_threshold=None, max_cat_to_onehot=None,\n",
      "             max_delta_step=None, max_depth=None, max_leaves=None,\n",
      "             min_child_weight=None, missing=nan, monotone_constraints=None,\n",
      "             multi_strategy=None, n_estimators=10, n_jobs=None,\n",
      "             num_parallel_tree=None, objective='reg:linear', ...) reach RMSE: 0.011100347623432295\n"
     ]
    },
    {
     "name": "stderr",
     "output_type": "stream",
     "text": [
      "c:\\Users\\DTBKhanh\\anaconda3\\envs\\machine_learning\\lib\\site-packages\\xgboost\\core.py:160: UserWarning: [09:54:08] WARNING: C:\\buildkite-agent\\builds\\buildkite-windows-cpu-autoscaling-group-i-07f6e447eee219473-1\\xgboost\\xgboost-ci-windows\\src\\objective\\regression_obj.cu:209: reg:linear is now deprecated in favor of reg:squarederror.\n",
      "  warnings.warn(smsg, UserWarning)\n"
     ]
    }
   ],
   "source": [
    "xgb_r = xg.XGBRegressor(objective ='reg:linear', \n",
    "                  n_estimators = 10, seed = 123)\n",
    "xgb_r = training(xgb_r, column_trans, X_train, y_train, X_test, y_test)"
   ]
  },
  {
   "cell_type": "code",
   "execution_count": 146,
   "metadata": {},
   "outputs": [
    {
     "name": "stderr",
     "output_type": "stream",
     "text": [
      "c:\\Users\\DTBKhanh\\anaconda3\\envs\\machine_learning\\lib\\site-packages\\xgboost\\core.py:160: UserWarning: [09:54:08] WARNING: C:\\buildkite-agent\\builds\\buildkite-windows-cpu-autoscaling-group-i-07f6e447eee219473-1\\xgboost\\xgboost-ci-windows\\src\\objective\\regression_obj.cu:209: reg:linear is now deprecated in favor of reg:squarederror.\n",
      "  warnings.warn(smsg, UserWarning)\n",
      "c:\\Users\\DTBKhanh\\anaconda3\\envs\\machine_learning\\lib\\site-packages\\xgboost\\core.py:160: UserWarning: [09:54:08] WARNING: C:\\buildkite-agent\\builds\\buildkite-windows-cpu-autoscaling-group-i-07f6e447eee219473-1\\xgboost\\xgboost-ci-windows\\src\\objective\\regression_obj.cu:209: reg:linear is now deprecated in favor of reg:squarederror.\n",
      "  warnings.warn(smsg, UserWarning)\n",
      "c:\\Users\\DTBKhanh\\anaconda3\\envs\\machine_learning\\lib\\site-packages\\xgboost\\core.py:160: UserWarning: [09:54:09] WARNING: C:\\buildkite-agent\\builds\\buildkite-windows-cpu-autoscaling-group-i-07f6e447eee219473-1\\xgboost\\xgboost-ci-windows\\src\\objective\\regression_obj.cu:209: reg:linear is now deprecated in favor of reg:squarederror.\n",
      "  warnings.warn(smsg, UserWarning)\n",
      "c:\\Users\\DTBKhanh\\anaconda3\\envs\\machine_learning\\lib\\site-packages\\xgboost\\core.py:160: UserWarning: [09:54:09] WARNING: C:\\buildkite-agent\\builds\\buildkite-windows-cpu-autoscaling-group-i-07f6e447eee219473-1\\xgboost\\xgboost-ci-windows\\src\\objective\\regression_obj.cu:209: reg:linear is now deprecated in favor of reg:squarederror.\n",
      "  warnings.warn(smsg, UserWarning)\n"
     ]
    },
    {
     "name": "stdout",
     "output_type": "stream",
     "text": [
      "XGBoost Regressor model reach R2 Score: 0.705841782817547\n"
     ]
    },
    {
     "name": "stderr",
     "output_type": "stream",
     "text": [
      "c:\\Users\\DTBKhanh\\anaconda3\\envs\\machine_learning\\lib\\site-packages\\xgboost\\core.py:160: UserWarning: [09:54:09] WARNING: C:\\buildkite-agent\\builds\\buildkite-windows-cpu-autoscaling-group-i-07f6e447eee219473-1\\xgboost\\xgboost-ci-windows\\src\\objective\\regression_obj.cu:209: reg:linear is now deprecated in favor of reg:squarederror.\n",
      "  warnings.warn(smsg, UserWarning)\n"
     ]
    }
   ],
   "source": [
    "scores = cross_validation_model(xgb_r, X, y)\n",
    "print(f'XGBoost Regressor model reach R2 Score: {np.mean(scores)}')"
   ]
  },
  {
   "cell_type": "markdown",
   "metadata": {},
   "source": [
    "### Save model"
   ]
  },
  {
   "cell_type": "code",
   "execution_count": 157,
   "metadata": {},
   "outputs": [],
   "source": [
    "# Saving model\n",
    "import pickle\n",
    "pickle.dump(lr, open('xgb_r.pkl', 'wb'))"
   ]
  },
  {
   "cell_type": "markdown",
   "metadata": {},
   "source": [
    "### Test some samples"
   ]
  },
  {
   "cell_type": "code",
   "execution_count": 158,
   "metadata": {},
   "outputs": [
    {
     "name": "stdout",
     "output_type": "stream",
     "text": [
      "Predicted Price:  597,988,672 VNĐ\n",
      "True price: 455.000.000 VND\n"
     ]
    }
   ],
   "source": [
    "manufacture_date = 2021\n",
    "brand = 'Honda'\n",
    "model = 'City'\n",
    "type_car = 'Sedan'\n",
    "fuel = 'petrol'\n",
    "condition = 'used'\n",
    "mileage_v2 = 23000\n",
    "\n",
    "price = xgb_r.predict(pd.DataFrame([[manufacture_date, \n",
    "                                     brand, model, \n",
    "                                     type_car, fuel, \n",
    "                                     condition, \n",
    "                                     mileage_v2]], \n",
    "                                   columns=['manufacture_date', \n",
    "                                            'brand', \n",
    "                                            'model', \n",
    "                                            'type_car', \n",
    "                                            'fuel', \n",
    "                                            'condition', \n",
    "                                            'mileage_v2']))\n",
    "print('Predicted Price: ', '{:,.0f}'.format(price[0]), 'VNĐ')\n",
    "print(\"True price: 455.000.000 VND\")"
   ]
  },
  {
   "cell_type": "code",
   "execution_count": 159,
   "metadata": {},
   "outputs": [
    {
     "name": "stdout",
     "output_type": "stream",
     "text": [
      "Predicted Price:  354,087,040 VNĐ\n",
      "True price: 295.000.000 VND\n"
     ]
    }
   ],
   "source": [
    "manufacture_date = 2016\n",
    "brand = 'Kia'\n",
    "model = 'Rio'\n",
    "type_car = 'Hatchback'\n",
    "fuel = 'petrol'\n",
    "condition = 'used'\n",
    "mileage_v2 = 78545\n",
    "\n",
    "price = xgb_r.predict(pd.DataFrame([[manufacture_date, \n",
    "                                     brand, model, \n",
    "                                     type_car, fuel, \n",
    "                                     condition, \n",
    "                                     mileage_v2]], \n",
    "                                   columns=['manufacture_date', \n",
    "                                            'brand', \n",
    "                                            'model', \n",
    "                                            'type_car', \n",
    "                                            'fuel', \n",
    "                                            'condition', \n",
    "                                            'mileage_v2']))\n",
    "print('Predicted Price: ', '{:,.0f}'.format(price[0]), 'VNĐ')\n",
    "print(\"True price: 295.000.000 VND\")"
   ]
  },
  {
   "cell_type": "code",
   "execution_count": 160,
   "metadata": {},
   "outputs": [
    {
     "name": "stdout",
     "output_type": "stream",
     "text": [
      "Predicted Price:  553,130,560 VNĐ\n",
      "True price: 368.000.000 VND\n"
     ]
    }
   ],
   "source": [
    "manufacture_date = 2020\n",
    "brand = 'Toyota'\n",
    "model = 'Vios'\n",
    "type_car = 'Sedan'\n",
    "fuel = 'petrol'\n",
    "condition = 'used'\n",
    "mileage_v2 = 99999\n",
    "\n",
    "price = xgb_r.predict(pd.DataFrame([[manufacture_date, \n",
    "                                     brand, model, \n",
    "                                     type_car, fuel, \n",
    "                                     condition, \n",
    "                                     mileage_v2]], \n",
    "                                   columns=['manufacture_date', \n",
    "                                            'brand', \n",
    "                                            'model', \n",
    "                                            'type_car', \n",
    "                                            'fuel', \n",
    "                                            'condition', \n",
    "                                            'mileage_v2']))\n",
    "print('Predicted Price: ', '{:,.0f}'.format(price[0]), 'VNĐ')\n",
    "print(\"True price: 368.000.000 VND\")"
   ]
  },
  {
   "cell_type": "markdown",
   "metadata": {},
   "source": [
    "### Predict"
   ]
  },
  {
   "cell_type": "code",
   "execution_count": 156,
   "metadata": {},
   "outputs": [
    {
     "name": "stdout",
     "output_type": "stream",
     "text": [
      "Price:  753,084,992 VNĐ\n"
     ]
    }
   ],
   "source": [
    "manufacture_date = 2023\n",
    "brand = 'Hyundai'\n",
    "model = 'Creta'\n",
    "type_car = 'SUV / Cross over'\n",
    "fuel = 'petrol'\n",
    "condition = 'used'\n",
    "mileage_v2 = 1000\n",
    "\n",
    "price = xgb_r.predict(pd.DataFrame([[manufacture_date, brand, model, type_car, fuel, condition, mileage_v2]], columns=['manufacture_date', 'brand', 'model', 'type_car', 'fuel', 'condition', 'mileage_v2']))\n",
    "print('Price: ', '{:,.0f}'.format(price[0]), 'VNĐ')"
   ]
  }
 ],
 "metadata": {
  "kernelspec": {
   "display_name": "kiet_alpha",
   "language": "python",
   "name": "python3"
  },
  "language_info": {
   "codemirror_mode": {
    "name": "ipython",
    "version": 3
   },
   "file_extension": ".py",
   "mimetype": "text/x-python",
   "name": "python",
   "nbconvert_exporter": "python",
   "pygments_lexer": "ipython3",
   "version": "3.10.13"
  }
 },
 "nbformat": 4,
 "nbformat_minor": 2
}
